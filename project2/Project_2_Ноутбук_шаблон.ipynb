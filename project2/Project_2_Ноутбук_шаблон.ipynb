{
  "cells": [
    {
      "cell_type": "markdown",
      "id": "42289889-bd57-434e-9637-d3e354756316",
      "metadata": {
        "id": "42289889-bd57-434e-9637-d3e354756316"
      },
      "source": [
        "<center> <img src = https://raw.githubusercontent.com/AndreyRysistov/DatasetsForPandas/main/hh%20label.jpg alt=\"drawing\" style=\"width:400px;\">"
      ]
    },
    {
      "cell_type": "markdown",
      "id": "829cb75b-f14e-4ba8-9195-7ba929a7d656",
      "metadata": {
        "id": "829cb75b-f14e-4ba8-9195-7ba929a7d656",
        "tags": []
      },
      "source": [
        "# <center> Проект: Анализ вакансий из HeadHunter\n",
        "   "
      ]
    },
    {
      "cell_type": "code",
      "execution_count": 259,
      "id": "dccfde33-2452-43fb-a8a5-5c6ebc02a71d",
      "metadata": {
        "id": "dccfde33-2452-43fb-a8a5-5c6ebc02a71d"
      },
      "outputs": [],
      "source": [
        "import pandas as pd\n",
        "import psycopg2"
      ]
    },
    {
      "cell_type": "code",
      "execution_count": 260,
      "id": "oVKH4ehvf8Ay",
      "metadata": {
        "id": "oVKH4ehvf8Ay"
      },
      "outputs": [],
      "source": [
        "# вставьте сюда параметры подключения из юнита 1. Работа с базой данных из Python "
      ]
    },
    {
      "cell_type": "code",
      "execution_count": 261,
      "id": "G4X_q8KBf7SF",
      "metadata": {
        "id": "G4X_q8KBf7SF"
      },
      "outputs": [],
      "source": [
        "connection = psycopg2.connect(\n",
        "    dbname = 'project_sql',\n",
        "    user = 'skillfactory',\n",
        "    password = 'cCkxxLVrDE8EbvjueeMedPKt',\n",
        "    host = '84.201.134.129',\n",
        "    port = 5432\n",
        ")"
      ]
    },
    {
      "cell_type": "code",
      "execution_count": 262,
      "id": "376a077c",
      "metadata": {},
      "outputs": [],
      "source": [
        "# Hiding message of user warnings  \n",
        "import warnings\n",
        "warnings.filterwarnings('ignore', category=UserWarning)"
      ]
    },
    {
      "cell_type": "markdown",
      "id": "0dc6476b-7a00-44f1-ac93-6e3baed33a29",
      "metadata": {
        "id": "0dc6476b-7a00-44f1-ac93-6e3baed33a29"
      },
      "source": [
        "# Юнит 3. Предварительный анализ данных"
      ]
    },
    {
      "cell_type": "markdown",
      "id": "889782b6-8d1c-410e-8920-e57f27917c64",
      "metadata": {
        "id": "889782b6-8d1c-410e-8920-e57f27917c64"
      },
      "source": [
        "1. Напишите запрос, который посчитает количество вакансий в нашей базе (вакансии находятся в таблице vacancies). "
      ]
    },
    {
      "cell_type": "code",
      "execution_count": 263,
      "id": "bc39e68e-ed02-4ee2-9235-7258a2f867a8",
      "metadata": {
        "id": "bc39e68e-ed02-4ee2-9235-7258a2f867a8"
      },
      "outputs": [],
      "source": [
        "# текст запроса\n",
        "query_3_1 = f'''\n",
        "        select count(*)\n",
        "        from vacancies\n",
        "'''"
      ]
    },
    {
      "cell_type": "code",
      "execution_count": 264,
      "id": "7mAwtsk4hEHY",
      "metadata": {
        "id": "7mAwtsk4hEHY"
      },
      "outputs": [
        {
          "name": "stdout",
          "output_type": "stream",
          "text": [
            "Количество вакансий: 49197\n"
          ]
        }
      ],
      "source": [
        "# результат запроса\n",
        "total_vacancies = pd.read_sql_query(query_3_1, connection)\n",
        "total_vacancies = total_vacancies.iloc[0,0]\n",
        "print('Количество вакансий:', total_vacancies)"
      ]
    },
    {
      "cell_type": "markdown",
      "id": "b583485d-1f9e-494e-ada4-80ffff7c53d6",
      "metadata": {
        "id": "b583485d-1f9e-494e-ada4-80ffff7c53d6"
      },
      "source": [
        "2. Напишите запрос, который посчитает количество работодателей (таблица employers). "
      ]
    },
    {
      "cell_type": "code",
      "execution_count": 265,
      "id": "5408c52c-3407-4a63-b25b-1aafa2322d28",
      "metadata": {
        "id": "5408c52c-3407-4a63-b25b-1aafa2322d28"
      },
      "outputs": [],
      "source": [
        "# текст запроса\n",
        "query_3_2 = f'''\n",
        "        select count(*)\n",
        "        from employers\n",
        "'''"
      ]
    },
    {
      "cell_type": "code",
      "execution_count": 266,
      "id": "jVL4eshKhdqc",
      "metadata": {
        "id": "jVL4eshKhdqc"
      },
      "outputs": [
        {
          "name": "stdout",
          "output_type": "stream",
          "text": [
            "Количество работодателей: 23501\n"
          ]
        }
      ],
      "source": [
        "# результат запроса\n",
        "total_employers = pd.read_sql_query(query_3_2, connection)\n",
        "total_employers = total_employers.iloc[0,0]\n",
        "print('Количество работодателей:', total_employers)"
      ]
    },
    {
      "cell_type": "markdown",
      "id": "a2bfff1f-c975-4bf6-84be-2185d79dcb76",
      "metadata": {
        "id": "a2bfff1f-c975-4bf6-84be-2185d79dcb76"
      },
      "source": [
        "3. Посчитате с помощью запроса количество регионов (таблица areas)."
      ]
    },
    {
      "cell_type": "code",
      "execution_count": 267,
      "id": "1m8QJwBYhey6",
      "metadata": {
        "id": "1m8QJwBYhey6"
      },
      "outputs": [],
      "source": [
        "# текст запроса\n",
        "query_3_3 = f'''\n",
        "        select count(*)\n",
        "        from areas\n",
        "'''"
      ]
    },
    {
      "cell_type": "code",
      "execution_count": 268,
      "id": "EZsn9tlfhe7f",
      "metadata": {
        "id": "EZsn9tlfhe7f"
      },
      "outputs": [
        {
          "name": "stdout",
          "output_type": "stream",
          "text": [
            "Количество регионов: 1362\n"
          ]
        }
      ],
      "source": [
        "# результат запроса\n",
        "total_areas = pd.read_sql_query(query_3_3, connection)\n",
        "total_areas = total_areas.iloc[0,0]\n",
        "print('Количество регионов:', total_areas)"
      ]
    },
    {
      "cell_type": "markdown",
      "id": "41bb59f3-53cc-4a67-a5bc-bedf573955e4",
      "metadata": {
        "id": "41bb59f3-53cc-4a67-a5bc-bedf573955e4"
      },
      "source": [
        "4. Посчитате с помощью запроса количество сфер деятельности в базе (таблица industries)."
      ]
    },
    {
      "cell_type": "code",
      "execution_count": 269,
      "id": "d286cf4c-707b-4cd2-9190-7ab3587d04a1",
      "metadata": {
        "id": "d286cf4c-707b-4cd2-9190-7ab3587d04a1"
      },
      "outputs": [],
      "source": [
        "# текст запроса\n",
        "query_3_4 = f'''\n",
        "        select count(*)\n",
        "        from industries\n",
        "'''"
      ]
    },
    {
      "cell_type": "code",
      "execution_count": 270,
      "id": "JYAaoZ4qhfzW",
      "metadata": {
        "id": "JYAaoZ4qhfzW"
      },
      "outputs": [
        {
          "name": "stdout",
          "output_type": "stream",
          "text": [
            "Количество сфер деятельности: 294\n"
          ]
        }
      ],
      "source": [
        "# результат запроса\n",
        "total_industries = pd.read_sql_query(query_3_4, connection)\n",
        "total_industries = total_industries.iloc[0,0]\n",
        "print('Количество сфер деятельности:', total_industries)"
      ]
    },
    {
      "cell_type": "markdown",
      "id": "9a8a2181-6914-448b-85f1-38f5f18b8a93",
      "metadata": {
        "id": "9a8a2181-6914-448b-85f1-38f5f18b8a93"
      },
      "source": [
        "***"
      ]
    },
    {
      "attachments": {},
      "cell_type": "markdown",
      "id": "be4e9bd3-a4db-4a20-82fb-6b02fc2957e0",
      "metadata": {
        "id": "be4e9bd3-a4db-4a20-82fb-6b02fc2957e0"
      },
      "source": [
        "**ВЫВОД ПО ПРЕДВАРИТЕЛЬНОМУ АНАЛИЗУ ДАННЫХ:**\n",
        "\n",
        "*Количество сфер деятельности:* В базе данных содержится информация о 294 различных сферах деятельности. Это может указывать на разнообразие компаний и организаций, представленных в базе данных.\n",
        "\n",
        "*Количество регионов:* В базе данных учитываются 1362 различных региона. Это может указывать на географическое распределение вакансий и возможное разнообразие рынков труда в разных регионах.\n",
        "\n",
        "*Количество работодателей:* Существует информация о 23501 работодателе. Это количество компаний и организаций, предлагающих вакансии. Большое количество работодателей может указывать на активность рынка труда и разнообразие предложений о работе.\n",
        "\n",
        "*Количество вакансий:* Общее количество вакансий составляет 49197. Это количество рабочих позиций, доступных в базе данных. Большое количество вакансий может указывать на востребованность рынка труда."
      ]
    },
    {
      "cell_type": "markdown",
      "id": "8d62a9f3-f64e-4fe7-bdac-c4dffa16155e",
      "metadata": {
        "id": "8d62a9f3-f64e-4fe7-bdac-c4dffa16155e"
      },
      "source": [
        "# Юнит 4. Детальный анализ вакансий"
      ]
    },
    {
      "cell_type": "markdown",
      "id": "93053d3d-b284-481a-9cf7-012d7014c0e0",
      "metadata": {
        "id": "93053d3d-b284-481a-9cf7-012d7014c0e0"
      },
      "source": [
        "1. Напишите запрос, который позволит узнать, сколько (cnt) вакансий в каждом регионе (area).\n",
        "Отсортируйте по количеству вакансий в порядке убывания."
      ]
    },
    {
      "cell_type": "code",
      "execution_count": 345,
      "id": "3f069da6-fdc9-4ae7-b514-fafe2675efd3",
      "metadata": {
        "id": "3f069da6-fdc9-4ae7-b514-fafe2675efd3"
      },
      "outputs": [],
      "source": [
        "# текст запроса\n",
        "query_4_1 = f'''\n",
        "        select a.name,\n",
        "               count(v.id) cnt\n",
        "        from vacancies v\n",
        "        join areas a on v.area_id = a.id\n",
        "        group by a.name\n",
        "        order by 2 desc\n",
        "        limit 5\n",
        "'''"
      ]
    },
    {
      "cell_type": "code",
      "execution_count": 346,
      "id": "P7QL86hrjhRJ",
      "metadata": {
        "id": "P7QL86hrjhRJ"
      },
      "outputs": [
        {
          "data": {
            "text/html": [
              "<div>\n",
              "<style scoped>\n",
              "    .dataframe tbody tr th:only-of-type {\n",
              "        vertical-align: middle;\n",
              "    }\n",
              "\n",
              "    .dataframe tbody tr th {\n",
              "        vertical-align: top;\n",
              "    }\n",
              "\n",
              "    .dataframe thead th {\n",
              "        text-align: right;\n",
              "    }\n",
              "</style>\n",
              "<table border=\"1\" class=\"dataframe\">\n",
              "  <thead>\n",
              "    <tr style=\"text-align: right;\">\n",
              "      <th></th>\n",
              "      <th>name</th>\n",
              "      <th>cnt</th>\n",
              "    </tr>\n",
              "  </thead>\n",
              "  <tbody>\n",
              "    <tr>\n",
              "      <th>0</th>\n",
              "      <td>Москва</td>\n",
              "      <td>5333</td>\n",
              "    </tr>\n",
              "    <tr>\n",
              "      <th>1</th>\n",
              "      <td>Санкт-Петербург</td>\n",
              "      <td>2851</td>\n",
              "    </tr>\n",
              "    <tr>\n",
              "      <th>2</th>\n",
              "      <td>Минск</td>\n",
              "      <td>2112</td>\n",
              "    </tr>\n",
              "    <tr>\n",
              "      <th>3</th>\n",
              "      <td>Новосибирск</td>\n",
              "      <td>2006</td>\n",
              "    </tr>\n",
              "    <tr>\n",
              "      <th>4</th>\n",
              "      <td>Алматы</td>\n",
              "      <td>1892</td>\n",
              "    </tr>\n",
              "  </tbody>\n",
              "</table>\n",
              "</div>"
            ],
            "text/plain": [
              "              name   cnt\n",
              "0           Москва  5333\n",
              "1  Санкт-Петербург  2851\n",
              "2            Минск  2112\n",
              "3      Новосибирск  2006\n",
              "4           Алматы  1892"
            ]
          },
          "metadata": {},
          "output_type": "display_data"
        }
      ],
      "source": [
        "# результат запроса\n",
        "cnt_vacancies = pd.read_sql_query(query_4_1, connection)\n",
        "display(cnt_vacancies)\n"
      ]
    },
    {
      "cell_type": "markdown",
      "id": "4266f0b6-1646-492a-88b4-2f6a46502135",
      "metadata": {
        "id": "4266f0b6-1646-492a-88b4-2f6a46502135"
      },
      "source": [
        "2. Напишите запрос, чтобы определить у какого количества вакансий заполнено хотя бы одно из двух полей с зарплатой."
      ]
    },
    {
      "cell_type": "code",
      "execution_count": 273,
      "id": "0c44b350-72eb-4d65-8b54-a1fc449ba9fd",
      "metadata": {
        "id": "0c44b350-72eb-4d65-8b54-a1fc449ba9fd"
      },
      "outputs": [],
      "source": [
        "# текст запроса\n",
        "query_4_2 = f'''\n",
        "        select count(id) cnt\n",
        "        from vacancies \n",
        "        where salary_from is not null or salary_to is not null\n",
        "'''"
      ]
    },
    {
      "cell_type": "code",
      "execution_count": 274,
      "id": "rhvwaMDkoWTi",
      "metadata": {
        "id": "rhvwaMDkoWTi"
      },
      "outputs": [
        {
          "name": "stdout",
          "output_type": "stream",
          "text": [
            "\n",
            "Количество вакансий, у которых заполнено хотя бы одно из двух полей с зарплатой:  24073\n"
          ]
        }
      ],
      "source": [
        "# результат запроса\n",
        "not_null_vac = pd.read_sql_query(query_4_2, connection)\n",
        "not_null_vac = not_null_vac.iloc[0,0]\n",
        "print()\n",
        "print('Количество вакансий, у которых заполнено хотя бы одно из двух полей с зарплатой: ', not_null_vac)"
      ]
    },
    {
      "cell_type": "markdown",
      "id": "635c4d5d-f323-4c66-b428-50a088120aa0",
      "metadata": {
        "id": "635c4d5d-f323-4c66-b428-50a088120aa0"
      },
      "source": [
        "3. Найдите средние значения для нижней и верхней границы зарплатной вилки. Округлите значения до целого."
      ]
    },
    {
      "cell_type": "code",
      "execution_count": 275,
      "id": "603cdbe4-0ec3-4106-8eaf-c73fcdd29165",
      "metadata": {
        "id": "603cdbe4-0ec3-4106-8eaf-c73fcdd29165"
      },
      "outputs": [],
      "source": [
        "# текст запроса\n",
        "query_4_3 = f'''\n",
        "        select round(avg(salary_from)) as low_avg,\n",
        "            round(avg(salary_to)) as high_avg\n",
        "        from vacancies \n",
        "        \n",
        "'''"
      ]
    },
    {
      "cell_type": "code",
      "execution_count": 276,
      "id": "pswpAb66ovZZ",
      "metadata": {
        "id": "pswpAb66ovZZ"
      },
      "outputs": [
        {
          "data": {
            "text/html": [
              "<div>\n",
              "<style scoped>\n",
              "    .dataframe tbody tr th:only-of-type {\n",
              "        vertical-align: middle;\n",
              "    }\n",
              "\n",
              "    .dataframe tbody tr th {\n",
              "        vertical-align: top;\n",
              "    }\n",
              "\n",
              "    .dataframe thead th {\n",
              "        text-align: right;\n",
              "    }\n",
              "</style>\n",
              "<table border=\"1\" class=\"dataframe\">\n",
              "  <thead>\n",
              "    <tr style=\"text-align: right;\">\n",
              "      <th></th>\n",
              "      <th>low_avg</th>\n",
              "      <th>high_avg</th>\n",
              "    </tr>\n",
              "  </thead>\n",
              "  <tbody>\n",
              "    <tr>\n",
              "      <th>0</th>\n",
              "      <td>71065.0</td>\n",
              "      <td>110537.0</td>\n",
              "    </tr>\n",
              "  </tbody>\n",
              "</table>\n",
              "</div>"
            ],
            "text/plain": [
              "   low_avg  high_avg\n",
              "0  71065.0  110537.0"
            ]
          },
          "metadata": {},
          "output_type": "display_data"
        }
      ],
      "source": [
        "# результат запроса\n",
        "avg_salary = pd.read_sql_query(query_4_3, connection)\n",
        "display(avg_salary)"
      ]
    },
    {
      "cell_type": "markdown",
      "id": "f3fdaec9-5fd3-4260-9cf5-1d7406b628a5",
      "metadata": {
        "id": "f3fdaec9-5fd3-4260-9cf5-1d7406b628a5"
      },
      "source": [
        "4. Напишите запрос, который выведет количество вакансий для каждого сочетания типа рабочего графика (schedule) и типа трудоустройства (employment), используемого в вакансиях. Результат отсортируйте по убыванию количества.\n"
      ]
    },
    {
      "cell_type": "code",
      "execution_count": 277,
      "id": "1ea710ec-871b-431e-9462-c7d0fd87011b",
      "metadata": {
        "id": "1ea710ec-871b-431e-9462-c7d0fd87011b"
      },
      "outputs": [],
      "source": [
        "# текст запроса\n",
        "query_4_4 = f'''\n",
        "        select schedule,\n",
        "                employment,\n",
        "                count(id)\n",
        "        from vacancies\n",
        "        group by schedule, employment\n",
        "        order by 3 desc\n",
        "        \n",
        "'''"
      ]
    },
    {
      "cell_type": "code",
      "execution_count": 278,
      "id": "lGUVqavdo4JQ",
      "metadata": {
        "id": "lGUVqavdo4JQ"
      },
      "outputs": [
        {
          "data": {
            "text/html": [
              "<div>\n",
              "<style scoped>\n",
              "    .dataframe tbody tr th:only-of-type {\n",
              "        vertical-align: middle;\n",
              "    }\n",
              "\n",
              "    .dataframe tbody tr th {\n",
              "        vertical-align: top;\n",
              "    }\n",
              "\n",
              "    .dataframe thead th {\n",
              "        text-align: right;\n",
              "    }\n",
              "</style>\n",
              "<table border=\"1\" class=\"dataframe\">\n",
              "  <thead>\n",
              "    <tr style=\"text-align: right;\">\n",
              "      <th></th>\n",
              "      <th>schedule</th>\n",
              "      <th>employment</th>\n",
              "      <th>count</th>\n",
              "    </tr>\n",
              "  </thead>\n",
              "  <tbody>\n",
              "    <tr>\n",
              "      <th>0</th>\n",
              "      <td>Полный день</td>\n",
              "      <td>Полная занятость</td>\n",
              "      <td>35367</td>\n",
              "    </tr>\n",
              "    <tr>\n",
              "      <th>1</th>\n",
              "      <td>Удаленная работа</td>\n",
              "      <td>Полная занятость</td>\n",
              "      <td>7802</td>\n",
              "    </tr>\n",
              "    <tr>\n",
              "      <th>2</th>\n",
              "      <td>Гибкий график</td>\n",
              "      <td>Полная занятость</td>\n",
              "      <td>1593</td>\n",
              "    </tr>\n",
              "    <tr>\n",
              "      <th>3</th>\n",
              "      <td>Удаленная работа</td>\n",
              "      <td>Частичная занятость</td>\n",
              "      <td>1312</td>\n",
              "    </tr>\n",
              "    <tr>\n",
              "      <th>4</th>\n",
              "      <td>Сменный график</td>\n",
              "      <td>Полная занятость</td>\n",
              "      <td>940</td>\n",
              "    </tr>\n",
              "    <tr>\n",
              "      <th>5</th>\n",
              "      <td>Полный день</td>\n",
              "      <td>Стажировка</td>\n",
              "      <td>569</td>\n",
              "    </tr>\n",
              "    <tr>\n",
              "      <th>6</th>\n",
              "      <td>Вахтовый метод</td>\n",
              "      <td>Полная занятость</td>\n",
              "      <td>367</td>\n",
              "    </tr>\n",
              "    <tr>\n",
              "      <th>7</th>\n",
              "      <td>Полный день</td>\n",
              "      <td>Частичная занятость</td>\n",
              "      <td>347</td>\n",
              "    </tr>\n",
              "    <tr>\n",
              "      <th>8</th>\n",
              "      <td>Гибкий график</td>\n",
              "      <td>Частичная занятость</td>\n",
              "      <td>312</td>\n",
              "    </tr>\n",
              "    <tr>\n",
              "      <th>9</th>\n",
              "      <td>Полный день</td>\n",
              "      <td>Проектная работа</td>\n",
              "      <td>141</td>\n",
              "    </tr>\n",
              "    <tr>\n",
              "      <th>10</th>\n",
              "      <td>Удаленная работа</td>\n",
              "      <td>Проектная работа</td>\n",
              "      <td>133</td>\n",
              "    </tr>\n",
              "    <tr>\n",
              "      <th>11</th>\n",
              "      <td>Гибкий график</td>\n",
              "      <td>Стажировка</td>\n",
              "      <td>116</td>\n",
              "    </tr>\n",
              "    <tr>\n",
              "      <th>12</th>\n",
              "      <td>Сменный график</td>\n",
              "      <td>Частичная занятость</td>\n",
              "      <td>101</td>\n",
              "    </tr>\n",
              "    <tr>\n",
              "      <th>13</th>\n",
              "      <td>Удаленная работа</td>\n",
              "      <td>Стажировка</td>\n",
              "      <td>64</td>\n",
              "    </tr>\n",
              "    <tr>\n",
              "      <th>14</th>\n",
              "      <td>Гибкий график</td>\n",
              "      <td>Проектная работа</td>\n",
              "      <td>18</td>\n",
              "    </tr>\n",
              "    <tr>\n",
              "      <th>15</th>\n",
              "      <td>Сменный график</td>\n",
              "      <td>Стажировка</td>\n",
              "      <td>12</td>\n",
              "    </tr>\n",
              "    <tr>\n",
              "      <th>16</th>\n",
              "      <td>Вахтовый метод</td>\n",
              "      <td>Проектная работа</td>\n",
              "      <td>2</td>\n",
              "    </tr>\n",
              "    <tr>\n",
              "      <th>17</th>\n",
              "      <td>Сменный график</td>\n",
              "      <td>Проектная работа</td>\n",
              "      <td>1</td>\n",
              "    </tr>\n",
              "  </tbody>\n",
              "</table>\n",
              "</div>"
            ],
            "text/plain": [
              "            schedule           employment  count\n",
              "0        Полный день     Полная занятость  35367\n",
              "1   Удаленная работа     Полная занятость   7802\n",
              "2      Гибкий график     Полная занятость   1593\n",
              "3   Удаленная работа  Частичная занятость   1312\n",
              "4     Сменный график     Полная занятость    940\n",
              "5        Полный день           Стажировка    569\n",
              "6     Вахтовый метод     Полная занятость    367\n",
              "7        Полный день  Частичная занятость    347\n",
              "8      Гибкий график  Частичная занятость    312\n",
              "9        Полный день     Проектная работа    141\n",
              "10  Удаленная работа     Проектная работа    133\n",
              "11     Гибкий график           Стажировка    116\n",
              "12    Сменный график  Частичная занятость    101\n",
              "13  Удаленная работа           Стажировка     64\n",
              "14     Гибкий график     Проектная работа     18\n",
              "15    Сменный график           Стажировка     12\n",
              "16    Вахтовый метод     Проектная работа      2\n",
              "17    Сменный график     Проектная работа      1"
            ]
          },
          "metadata": {},
          "output_type": "display_data"
        }
      ],
      "source": [
        "# результат запроса\n",
        "cnt_vac_type = pd.read_sql_query(query_4_4, connection)\n",
        "display(cnt_vac_type)"
      ]
    },
    {
      "cell_type": "markdown",
      "id": "0136ffee-0ead-4a6b-b608-61d1c753a438",
      "metadata": {
        "id": "0136ffee-0ead-4a6b-b608-61d1c753a438"
      },
      "source": [
        "5. Напишите запрос, выводящий значения поля Требуемый опыт работы (experience) в порядке возрастания количества вакансий, в которых указан данный вариант опыта. "
      ]
    },
    {
      "cell_type": "code",
      "execution_count": 279,
      "id": "5b3a8e79-f7ab-4008-b767-12aea3a205ea",
      "metadata": {
        "id": "5b3a8e79-f7ab-4008-b767-12aea3a205ea"
      },
      "outputs": [],
      "source": [
        "# текст запроса\n",
        "query_4_5 = f'''\n",
        "        select experience,\n",
        "            count(id)\n",
        "        from vacancies\n",
        "        group by experience\n",
        "        order by 2\n",
        "        \n",
        "'''"
      ]
    },
    {
      "cell_type": "code",
      "execution_count": 280,
      "id": "3Is64Y-hpDpq",
      "metadata": {
        "id": "3Is64Y-hpDpq"
      },
      "outputs": [
        {
          "data": {
            "text/html": [
              "<div>\n",
              "<style scoped>\n",
              "    .dataframe tbody tr th:only-of-type {\n",
              "        vertical-align: middle;\n",
              "    }\n",
              "\n",
              "    .dataframe tbody tr th {\n",
              "        vertical-align: top;\n",
              "    }\n",
              "\n",
              "    .dataframe thead th {\n",
              "        text-align: right;\n",
              "    }\n",
              "</style>\n",
              "<table border=\"1\" class=\"dataframe\">\n",
              "  <thead>\n",
              "    <tr style=\"text-align: right;\">\n",
              "      <th></th>\n",
              "      <th>experience</th>\n",
              "      <th>count</th>\n",
              "    </tr>\n",
              "  </thead>\n",
              "  <tbody>\n",
              "    <tr>\n",
              "      <th>0</th>\n",
              "      <td>Более 6 лет</td>\n",
              "      <td>1337</td>\n",
              "    </tr>\n",
              "    <tr>\n",
              "      <th>1</th>\n",
              "      <td>Нет опыта</td>\n",
              "      <td>7197</td>\n",
              "    </tr>\n",
              "    <tr>\n",
              "      <th>2</th>\n",
              "      <td>От 3 до 6 лет</td>\n",
              "      <td>14511</td>\n",
              "    </tr>\n",
              "    <tr>\n",
              "      <th>3</th>\n",
              "      <td>От 1 года до 3 лет</td>\n",
              "      <td>26152</td>\n",
              "    </tr>\n",
              "  </tbody>\n",
              "</table>\n",
              "</div>"
            ],
            "text/plain": [
              "           experience  count\n",
              "0         Более 6 лет   1337\n",
              "1           Нет опыта   7197\n",
              "2       От 3 до 6 лет  14511\n",
              "3  От 1 года до 3 лет  26152"
            ]
          },
          "metadata": {},
          "output_type": "display_data"
        }
      ],
      "source": [
        "# результат запроса\n",
        "cnt_vac_exp = pd.read_sql_query(query_4_5, connection)\n",
        "display(cnt_vac_exp)"
      ]
    },
    {
      "cell_type": "markdown",
      "id": "oq2b7n1QpIka",
      "metadata": {
        "id": "oq2b7n1QpIka"
      },
      "source": [
        "***"
      ]
    },
    {
      "attachments": {},
      "cell_type": "markdown",
      "id": "e91f87ed-e25c-4f96-9f92-b642e8c0b4fa",
      "metadata": {
        "id": "e91f87ed-e25c-4f96-9f92-b642e8c0b4fa"
      },
      "source": [
        "\n",
        "**Вывод:**\n",
        "\n",
        "*Распределение вакансий по городам:* Большинство вакансий находятся в г. Москва. Это может указывать на наличие большого рынка труда и возможностей для поиска работы в данном городе.\n",
        "\n",
        "*Указание зарплаты в вакансиях:* Около половины размещенных вакансий имеют указанные границы зарплаты. Это может означать, что для значительной части вакансий зарплата является ключевой характеристикой, которая привлекает соискателей.\n",
        "\n",
        "*Средние зарплаты:* Так как около половины размещенных вакансий имеют указанные границы зарплаты, средний уровень зарплаты 71 000 - 110 000 руб. может быть не совсем точен. Необходим дополнительный анализ для более точного определения средних значений.\n",
        "\n",
        "*Тип занятости и зарплата:* Большинство вакансий размещено с полной занятостью. Это может указывать на стабильные позиции с предоставлением полного рабочего времени. Средняя заработная плата в диапазоне 71 000 - 110 000 руб. также может свидетельствовать о наличии вакансий с хорошими возможностями для заработка.\n",
        "\n",
        "*Требования к опыту работы:* Большинство вакансий требуют опыт работы от 1 года до 3 лет. Также интересно, что вакансий без требования опыта работы больше, чем вакансий с требованиями опыта работы более 6 лет. Это может указывать на наличие возможностей для начинающих специалистов."
      ]
    },
    {
      "cell_type": "markdown",
      "id": "7ea20ab6-04a7-40a0-adec-443a0e5a42c3",
      "metadata": {
        "id": "7ea20ab6-04a7-40a0-adec-443a0e5a42c3"
      },
      "source": [
        "# Юнит 5. Анализ работодателей"
      ]
    },
    {
      "cell_type": "markdown",
      "id": "968aed80-74ef-4ffb-b5bf-c65b84e9caea",
      "metadata": {
        "id": "968aed80-74ef-4ffb-b5bf-c65b84e9caea"
      },
      "source": [
        "1. Напишите запрос, который позволит узнать, какие работодатели находятся на первом и пятом месте по количеству вакансий."
      ]
    },
    {
      "cell_type": "code",
      "execution_count": 281,
      "id": "f2d62796-d400-4ec1-a675-88112739a50e",
      "metadata": {
        "id": "f2d62796-d400-4ec1-a675-88112739a50e"
      },
      "outputs": [],
      "source": [
        "# текст запроса\n",
        "query_5_1 = f'''\n",
        "        select e.name,\n",
        "            count(v.id)\n",
        "        from employers e\n",
        "        join vacancies v on e.id = v.employer_id\n",
        "        group by e.name\n",
        "        order by 2 desc\n",
        "        limit 5\n",
        "        \n",
        "'''"
      ]
    },
    {
      "cell_type": "code",
      "execution_count": 282,
      "id": "64tOMkAxqkQk",
      "metadata": {
        "id": "64tOMkAxqkQk"
      },
      "outputs": [
        {
          "data": {
            "text/html": [
              "<div>\n",
              "<style scoped>\n",
              "    .dataframe tbody tr th:only-of-type {\n",
              "        vertical-align: middle;\n",
              "    }\n",
              "\n",
              "    .dataframe tbody tr th {\n",
              "        vertical-align: top;\n",
              "    }\n",
              "\n",
              "    .dataframe thead th {\n",
              "        text-align: right;\n",
              "    }\n",
              "</style>\n",
              "<table border=\"1\" class=\"dataframe\">\n",
              "  <thead>\n",
              "    <tr style=\"text-align: right;\">\n",
              "      <th></th>\n",
              "      <th>name</th>\n",
              "      <th>count</th>\n",
              "    </tr>\n",
              "  </thead>\n",
              "  <tbody>\n",
              "    <tr>\n",
              "      <th>0</th>\n",
              "      <td>Яндекс</td>\n",
              "      <td>1933</td>\n",
              "    </tr>\n",
              "    <tr>\n",
              "      <th>1</th>\n",
              "      <td>Ростелеком</td>\n",
              "      <td>491</td>\n",
              "    </tr>\n",
              "    <tr>\n",
              "      <th>2</th>\n",
              "      <td>Тинькофф</td>\n",
              "      <td>444</td>\n",
              "    </tr>\n",
              "    <tr>\n",
              "      <th>3</th>\n",
              "      <td>СБЕР</td>\n",
              "      <td>428</td>\n",
              "    </tr>\n",
              "    <tr>\n",
              "      <th>4</th>\n",
              "      <td>Газпром нефть</td>\n",
              "      <td>331</td>\n",
              "    </tr>\n",
              "  </tbody>\n",
              "</table>\n",
              "</div>"
            ],
            "text/plain": [
              "            name  count\n",
              "0         Яндекс   1933\n",
              "1     Ростелеком    491\n",
              "2       Тинькофф    444\n",
              "3           СБЕР    428\n",
              "4  Газпром нефть    331"
            ]
          },
          "metadata": {},
          "output_type": "display_data"
        }
      ],
      "source": [
        "# результат запроса\n",
        "cnt_vac_emp = pd.read_sql_query(query_5_1, connection)\n",
        "display(cnt_vac_emp)"
      ]
    },
    {
      "attachments": {},
      "cell_type": "markdown",
      "id": "68377cfc-b378-43dc-ab7d-1195abf2c515",
      "metadata": {
        "id": "68377cfc-b378-43dc-ab7d-1195abf2c515"
      },
      "source": [
        "2. Напишите запрос, который для каждого региона выведет количество работодателей и вакансий в нём.\n",
        "Среди регионов, в которых нет вакансий, найдите тот, в котором наибольшее количество работодателей.\n"
      ]
    },
    {
      "cell_type": "code",
      "execution_count": 283,
      "id": "dd7df27a-e3e8-412e-a21a-5d389b71e891",
      "metadata": {
        "id": "dd7df27a-e3e8-412e-a21a-5d389b71e891"
      },
      "outputs": [],
      "source": [
        "# текст запроса\n",
        "query_5_2 = f'''\n",
        "        select a.name,\n",
        "            count(e.id) cnt_employer,\n",
        "            count(v.id) cnt_vacancies\n",
        "        from areas a\n",
        "        left join employers e on a.id = e.area\n",
        "        left join vacancies v on a.id = v.area_id\n",
        "        group by a.name\n",
        "        having count(v.id) = 0\n",
        "        order by count(e.id) desc\n",
        "        limit 1\n",
        "'''"
      ]
    },
    {
      "cell_type": "code",
      "execution_count": 284,
      "id": "d8a4783d",
      "metadata": {},
      "outputs": [
        {
          "name": "stdout",
          "output_type": "stream",
          "text": [
            "\n",
            "Регион, в котором нет вакансий, но наибольшее количество работодателей:  Россия\n"
          ]
        }
      ],
      "source": [
        "# результат запроса\n",
        "cnt_area = pd.read_sql_query(query_5_2, connection)\n",
        "print()\n",
        "print('Регион, в котором нет вакансий, но наибольшее количество работодателей: ', cnt_area.iloc[0,0])"
      ]
    },
    {
      "cell_type": "markdown",
      "id": "f2fe0acb-ab1a-4e15-9326-2560e22d73c1",
      "metadata": {
        "id": "f2fe0acb-ab1a-4e15-9326-2560e22d73c1"
      },
      "source": [
        "3. Для каждого работодателя посчитайте количество регионов, в которых он публикует свои вакансии. Отсортируйте результат по убыванию количества.\n"
      ]
    },
    {
      "cell_type": "code",
      "execution_count": 285,
      "id": "6271f8ad-bd2e-4196-ae4a-5b39c4c1010e",
      "metadata": {
        "id": "6271f8ad-bd2e-4196-ae4a-5b39c4c1010e"
      },
      "outputs": [],
      "source": [
        "# текст запроса\n",
        "query_5_3 = f'''\n",
        "        select e.name,\n",
        "        count(distinct v.area_id) as regions_count\n",
        "        from employers e\n",
        "        left join vacancies v on e.id = v.employer_id\n",
        "        group by e.name\n",
        "        order by regions_count desc\n",
        "'''"
      ]
    },
    {
      "cell_type": "code",
      "execution_count": 286,
      "id": "1EIvX3HasH4F",
      "metadata": {
        "id": "1EIvX3HasH4F"
      },
      "outputs": [
        {
          "data": {
            "text/html": [
              "<div>\n",
              "<style scoped>\n",
              "    .dataframe tbody tr th:only-of-type {\n",
              "        vertical-align: middle;\n",
              "    }\n",
              "\n",
              "    .dataframe tbody tr th {\n",
              "        vertical-align: top;\n",
              "    }\n",
              "\n",
              "    .dataframe thead th {\n",
              "        text-align: right;\n",
              "    }\n",
              "</style>\n",
              "<table border=\"1\" class=\"dataframe\">\n",
              "  <thead>\n",
              "    <tr style=\"text-align: right;\">\n",
              "      <th></th>\n",
              "      <th>name</th>\n",
              "      <th>regions_count</th>\n",
              "    </tr>\n",
              "  </thead>\n",
              "  <tbody>\n",
              "    <tr>\n",
              "      <th>0</th>\n",
              "      <td>Яндекс</td>\n",
              "      <td>181</td>\n",
              "    </tr>\n",
              "    <tr>\n",
              "      <th>1</th>\n",
              "      <td>Ростелеком</td>\n",
              "      <td>152</td>\n",
              "    </tr>\n",
              "    <tr>\n",
              "      <th>2</th>\n",
              "      <td>Спецремонт</td>\n",
              "      <td>116</td>\n",
              "    </tr>\n",
              "    <tr>\n",
              "      <th>3</th>\n",
              "      <td>Поляков Денис Иванович</td>\n",
              "      <td>88</td>\n",
              "    </tr>\n",
              "    <tr>\n",
              "      <th>4</th>\n",
              "      <td>ООО ЕФИН</td>\n",
              "      <td>71</td>\n",
              "    </tr>\n",
              "    <tr>\n",
              "      <th>...</th>\n",
              "      <td>...</td>\n",
              "      <td>...</td>\n",
              "    </tr>\n",
              "    <tr>\n",
              "      <th>23170</th>\n",
              "      <td>СДЕЛКА</td>\n",
              "      <td>0</td>\n",
              "    </tr>\n",
              "    <tr>\n",
              "      <th>23171</th>\n",
              "      <td>Alandr Group</td>\n",
              "      <td>0</td>\n",
              "    </tr>\n",
              "    <tr>\n",
              "      <th>23172</th>\n",
              "      <td>СДК</td>\n",
              "      <td>0</td>\n",
              "    </tr>\n",
              "    <tr>\n",
              "      <th>23173</th>\n",
              "      <td>Lemon Land Lombard</td>\n",
              "      <td>0</td>\n",
              "    </tr>\n",
              "    <tr>\n",
              "      <th>23174</th>\n",
              "      <td>Махина</td>\n",
              "      <td>0</td>\n",
              "    </tr>\n",
              "  </tbody>\n",
              "</table>\n",
              "<p>23175 rows × 2 columns</p>\n",
              "</div>"
            ],
            "text/plain": [
              "                         name  regions_count\n",
              "0                      Яндекс            181\n",
              "1                  Ростелеком            152\n",
              "2                  Спецремонт            116\n",
              "3      Поляков Денис Иванович             88\n",
              "4                   ООО ЕФИН              71\n",
              "...                       ...            ...\n",
              "23170                  СДЕЛКА              0\n",
              "23171            Alandr Group              0\n",
              "23172                     СДК              0\n",
              "23173      Lemon Land Lombard              0\n",
              "23174                  Махина              0\n",
              "\n",
              "[23175 rows x 2 columns]"
            ]
          },
          "execution_count": 286,
          "metadata": {},
          "output_type": "execute_result"
        }
      ],
      "source": [
        "# результат запроса\n",
        "cnt_area = pd.read_sql_query(query_5_3, connection)\n",
        "cnt_area"
      ]
    },
    {
      "cell_type": "markdown",
      "id": "eab2206d-d95b-468b-8e5f-34381abf0ce7",
      "metadata": {
        "id": "eab2206d-d95b-468b-8e5f-34381abf0ce7"
      },
      "source": [
        "4. Напишите запрос для подсчёта количества работодателей, у которых не указана сфера деятельности. "
      ]
    },
    {
      "cell_type": "code",
      "execution_count": 287,
      "id": "80defb23-bfb1-4a18-8be6-bf36aa7165d5",
      "metadata": {
        "id": "80defb23-bfb1-4a18-8be6-bf36aa7165d5"
      },
      "outputs": [],
      "source": [
        "# текст запроса\n",
        "query_5_4 = f'''\n",
        "        select count(e.id)\n",
        "        from employers e\n",
        "        left join employers_industries e_i on e.id = e_i.employer_id\n",
        "        where e_i.industry_id is null\n",
        "'''"
      ]
    },
    {
      "cell_type": "code",
      "execution_count": 288,
      "id": "Dp_yCx6ysQSu",
      "metadata": {
        "id": "Dp_yCx6ysQSu"
      },
      "outputs": [
        {
          "name": "stdout",
          "output_type": "stream",
          "text": [
            "\n",
            "Количество работодателей, у которых не указана сфера деятельности 8419\n"
          ]
        }
      ],
      "source": [
        "# результат запроса\n",
        "cnt_employer = pd.read_sql_query(query_5_4, connection)\n",
        "print()\n",
        "print('Количество работодателей, у которых не указана сфера деятельности', cnt_employer.iloc[0,0])"
      ]
    },
    {
      "cell_type": "markdown",
      "id": "0112af31-f6b0-4e3b-82ab-71296e752e5e",
      "metadata": {
        "id": "0112af31-f6b0-4e3b-82ab-71296e752e5e"
      },
      "source": [
        "5. Напишите запрос, чтобы узнать название компании, находящейся на третьем месте в алфавитном списке (по названию) компаний, у которых указано четыре сферы деятельности. "
      ]
    },
    {
      "cell_type": "code",
      "execution_count": 289,
      "id": "973b0cfc-a972-470a-8b4a-68744ef220c4",
      "metadata": {
        "id": "973b0cfc-a972-470a-8b4a-68744ef220c4"
      },
      "outputs": [],
      "source": [
        "# текст запроса\n",
        "query_5_5 = f'''\n",
        "        select e.name\n",
        "        from employers e\n",
        "        join employers_industries e_i on e.id = e_i.employer_id\n",
        "        group by e.name\n",
        "        having count(e_i.industry_id) = 4\n",
        "        order by 1\n",
        "        limit 1 offset 2\n",
        "'''"
      ]
    },
    {
      "cell_type": "code",
      "execution_count": 290,
      "id": "xsPtpp8EsaED",
      "metadata": {
        "id": "xsPtpp8EsaED"
      },
      "outputs": [
        {
          "name": "stdout",
          "output_type": "stream",
          "text": [
            "\n",
            "Название компании, находящейся на третьем месте, у которых указано четыре сферы деятельности:  2ГИС\n"
          ]
        }
      ],
      "source": [
        "# результат запроса\n",
        "employer_industries = pd.read_sql_query(query_5_5, connection)\n",
        "print()\n",
        "print('Название компании, находящейся на третьем месте, у которых указано четыре сферы деятельности: ', employer_industries.iloc[0,0])"
      ]
    },
    {
      "cell_type": "markdown",
      "id": "3bfcfdaf-755d-4d2b-8ed8-326201dc07ab",
      "metadata": {
        "id": "3bfcfdaf-755d-4d2b-8ed8-326201dc07ab"
      },
      "source": [
        "6. С помощью запроса выясните, у какого количества работодателей в качестве сферы деятельности указана Разработка программного обеспечения.\n"
      ]
    },
    {
      "cell_type": "code",
      "execution_count": 291,
      "id": "ad3f270f-2991-47eb-929b-e8f88a55b0d1",
      "metadata": {
        "id": "ad3f270f-2991-47eb-929b-e8f88a55b0d1"
      },
      "outputs": [],
      "source": [
        "# текст запроса\n",
        "query_5_6 = f'''\n",
        "        select count(e_i.employer_id)\n",
        "        from industries i\n",
        "        join employers_industries e_i on i.id = e_i.industry_id\n",
        "        where i.name = 'Разработка программного обеспечения'\n",
        "'''"
      ]
    },
    {
      "cell_type": "code",
      "execution_count": 292,
      "id": "H72qxWM0shPR",
      "metadata": {
        "id": "H72qxWM0shPR"
      },
      "outputs": [
        {
          "name": "stdout",
          "output_type": "stream",
          "text": [
            "Колчество работодателей со сферой деятльности - Разработка ПО:  3553\n"
          ]
        }
      ],
      "source": [
        "# результат запроса\n",
        "cnt_employ_po = pd.read_sql_query(query_5_6, connection)\n",
        "print('Колчество работодателей со сферой деятльности - Разработка ПО: ', cnt_employ_po.iloc[0,0])"
      ]
    },
    {
      "cell_type": "markdown",
      "id": "7b02bb86-0546-40fb-94a4-242f050a5c57",
      "metadata": {
        "id": "7b02bb86-0546-40fb-94a4-242f050a5c57"
      },
      "source": [
        "7. Для компании «Яндекс» выведите список регионов-миллионников, в которых представлены вакансии компании, вместе с количеством вакансий в этих регионах. Также добавьте строку Total с общим количеством вакансий компании. Результат отсортируйте по возрастанию количества.\n",
        "\n",
        "Список городов-милионников надо взять [отсюда](https://ru.wikipedia.org/wiki/%D0%93%D0%BE%D1%80%D0%BE%D0%B4%D0%B0-%D0%BC%D0%B8%D0%BB%D0%BB%D0%B8%D0%BE%D0%BD%D0%B5%D1%80%D1%8B_%D0%A0%D0%BE%D1%81%D1%81%D0%B8%D0%B8). \n",
        "\n",
        "Если возникнут трудности с этим задание посмотрите материалы модуля  PYTHON-17. Как получать данные из веб-источников и API. "
      ]
    },
    {
      "cell_type": "code",
      "execution_count": 293,
      "id": "ZdfrL6gIs1Pn",
      "metadata": {
        "id": "ZdfrL6gIs1Pn"
      },
      "outputs": [
        {
          "name": "stdout",
          "output_type": "stream",
          "text": [
            "\n",
            "('Москва', 'Санкт-Петербург', 'Новосибирск', 'Екатеринбург', 'Казань', 'Нижний Новгород', 'Красноярск', 'Челябинск', 'Самара', 'Уфа', 'Ростов-на-Дону', 'Краснодар', 'Омск', 'Воронеж', 'Пермь', 'Волгоград')\n"
          ]
        }
      ],
      "source": [
        "# код для получения списка городов-милионников\n",
        "import requests\n",
        "from bs4 import BeautifulSoup\n",
        "\n",
        "url = 'https://ru.wikipedia.org/wiki/%D0%93%D0%BE%D1%80%D0%BE%D0%B4%D0%B0-%D0%BC%D0%B8%D0%BB%D0%BB%D0%B8%D0%BE%D0%BD%D0%B5%D1%80%D1%8B_%D0%A0%D0%BE%D1%81%D1%81%D0%B8%D0%B8'\n",
        "response = requests.get(url)\n",
        "page = BeautifulSoup(response.text, 'html.parser')\n",
        "table = (page.find('table', class_='standard sortable'))\n",
        "\n",
        "cities = []\n",
        "for row in table.find_all('tr'):\n",
        "    cell = row.find_all('td')\n",
        "    if len(cell)>=2:\n",
        "        city = cell[1].text\n",
        "        cities.append(city)\n",
        "\n",
        "cities = tuple(cities)\n",
        "# Выводим список городов-милионников\n",
        "print()\n",
        "print(cities)\n"
      ]
    },
    {
      "cell_type": "code",
      "execution_count": 294,
      "id": "5a0e32a4-e68a-4365-8a39-2fe24c542c36",
      "metadata": {
        "id": "5a0e32a4-e68a-4365-8a39-2fe24c542c36"
      },
      "outputs": [],
      "source": [
        "# текст запроса\n",
        "query_5_7 = f'''\n",
        "        with temp as (select a.name as region,\n",
        "               count(v.id) count_yandex\n",
        "        from areas a\n",
        "        join vacancies v on v.area_id = a.id\n",
        "        join employers e on e.id = v.employer_id\n",
        "        where a.name in {cities} and e.name = 'Яндекс'\n",
        "        group by a.name)\n",
        "        \n",
        "        select * from temp\n",
        "        union all\n",
        "        \n",
        "        select 'Total', sum(count_yandex)\n",
        "        from temp\n",
        "        \n",
        "'''"
      ]
    },
    {
      "cell_type": "code",
      "execution_count": 295,
      "id": "ttPhiO1rsvPq",
      "metadata": {
        "id": "ttPhiO1rsvPq"
      },
      "outputs": [
        {
          "data": {
            "text/html": [
              "<div>\n",
              "<style scoped>\n",
              "    .dataframe tbody tr th:only-of-type {\n",
              "        vertical-align: middle;\n",
              "    }\n",
              "\n",
              "    .dataframe tbody tr th {\n",
              "        vertical-align: top;\n",
              "    }\n",
              "\n",
              "    .dataframe thead th {\n",
              "        text-align: right;\n",
              "    }\n",
              "</style>\n",
              "<table border=\"1\" class=\"dataframe\">\n",
              "  <thead>\n",
              "    <tr style=\"text-align: right;\">\n",
              "      <th></th>\n",
              "      <th>region</th>\n",
              "      <th>count_yandex</th>\n",
              "    </tr>\n",
              "  </thead>\n",
              "  <tbody>\n",
              "    <tr>\n",
              "      <th>0</th>\n",
              "      <td>Волгоград</td>\n",
              "      <td>24.0</td>\n",
              "    </tr>\n",
              "    <tr>\n",
              "      <th>1</th>\n",
              "      <td>Воронеж</td>\n",
              "      <td>32.0</td>\n",
              "    </tr>\n",
              "    <tr>\n",
              "      <th>2</th>\n",
              "      <td>Екатеринбург</td>\n",
              "      <td>39.0</td>\n",
              "    </tr>\n",
              "    <tr>\n",
              "      <th>3</th>\n",
              "      <td>Казань</td>\n",
              "      <td>25.0</td>\n",
              "    </tr>\n",
              "    <tr>\n",
              "      <th>4</th>\n",
              "      <td>Краснодар</td>\n",
              "      <td>30.0</td>\n",
              "    </tr>\n",
              "    <tr>\n",
              "      <th>5</th>\n",
              "      <td>Красноярск</td>\n",
              "      <td>23.0</td>\n",
              "    </tr>\n",
              "    <tr>\n",
              "      <th>6</th>\n",
              "      <td>Москва</td>\n",
              "      <td>54.0</td>\n",
              "    </tr>\n",
              "    <tr>\n",
              "      <th>7</th>\n",
              "      <td>Нижний Новгород</td>\n",
              "      <td>36.0</td>\n",
              "    </tr>\n",
              "    <tr>\n",
              "      <th>8</th>\n",
              "      <td>Новосибирск</td>\n",
              "      <td>35.0</td>\n",
              "    </tr>\n",
              "    <tr>\n",
              "      <th>9</th>\n",
              "      <td>Омск</td>\n",
              "      <td>21.0</td>\n",
              "    </tr>\n",
              "    <tr>\n",
              "      <th>10</th>\n",
              "      <td>Пермь</td>\n",
              "      <td>25.0</td>\n",
              "    </tr>\n",
              "    <tr>\n",
              "      <th>11</th>\n",
              "      <td>Ростов-на-Дону</td>\n",
              "      <td>25.0</td>\n",
              "    </tr>\n",
              "    <tr>\n",
              "      <th>12</th>\n",
              "      <td>Самара</td>\n",
              "      <td>26.0</td>\n",
              "    </tr>\n",
              "    <tr>\n",
              "      <th>13</th>\n",
              "      <td>Санкт-Петербург</td>\n",
              "      <td>42.0</td>\n",
              "    </tr>\n",
              "    <tr>\n",
              "      <th>14</th>\n",
              "      <td>Уфа</td>\n",
              "      <td>26.0</td>\n",
              "    </tr>\n",
              "    <tr>\n",
              "      <th>15</th>\n",
              "      <td>Челябинск</td>\n",
              "      <td>22.0</td>\n",
              "    </tr>\n",
              "    <tr>\n",
              "      <th>16</th>\n",
              "      <td>Total</td>\n",
              "      <td>485.0</td>\n",
              "    </tr>\n",
              "  </tbody>\n",
              "</table>\n",
              "</div>"
            ],
            "text/plain": [
              "             region  count_yandex\n",
              "0         Волгоград          24.0\n",
              "1           Воронеж          32.0\n",
              "2      Екатеринбург          39.0\n",
              "3            Казань          25.0\n",
              "4         Краснодар          30.0\n",
              "5        Красноярск          23.0\n",
              "6            Москва          54.0\n",
              "7   Нижний Новгород          36.0\n",
              "8       Новосибирск          35.0\n",
              "9              Омск          21.0\n",
              "10            Пермь          25.0\n",
              "11   Ростов-на-Дону          25.0\n",
              "12           Самара          26.0\n",
              "13  Санкт-Петербург          42.0\n",
              "14              Уфа          26.0\n",
              "15        Челябинск          22.0\n",
              "16            Total         485.0"
            ]
          },
          "metadata": {},
          "output_type": "display_data"
        }
      ],
      "source": [
        "# результат запроса\n",
        "yandex_vac = pd.read_sql_query(query_5_7, connection)\n",
        "display(yandex_vac)"
      ]
    },
    {
      "cell_type": "markdown",
      "id": "04966e40-3bc3-4dc8-9ba2-e80580ce3abc",
      "metadata": {
        "id": "04966e40-3bc3-4dc8-9ba2-e80580ce3abc"
      },
      "source": [
        "***"
      ]
    },
    {
      "cell_type": "markdown",
      "id": "aGGyER-yt4SR",
      "metadata": {
        "id": "aGGyER-yt4SR"
      },
      "source": [
        "# Выводы по анализу работодателей\n",
        "**Топ работодателей:**  Яндекс, Ростелеком, Тинькофф, СБЕР и Газпром нефть — самые активные компании по публикации вакансий. Это может указывать на их высокую популярность среди соискателей и/или на разнообразие предлагаемых вакансий.\n",
        "\n",
        "**География вакансий:** Работодатели активно представлены в разных регионах. Некоторые компании даже публикуют вакансии в большом количестве регионов, что может свидетельствовать о их распределенности и стремлении привлечь таланты из разных уголков страны.\n",
        "\n",
        "**Сферы деятельности:** Наличие большого числа компаний, не указавших сферу деятельности, может говорить о неполной информации в базе данных или о том, что часть компаний может быть менее структурированной.\n",
        "\n",
        "**Города-милионники:** Компания Яндекс активно публикует вакансии в разных городах-милионниках, что подчеркивает ее распределенность и интерес к разнообразным кандидатам."
      ]
    },
    {
      "cell_type": "markdown",
      "id": "b1ef156a-efcb-49ce-bb23-90763e7f35b2",
      "metadata": {
        "id": "b1ef156a-efcb-49ce-bb23-90763e7f35b2",
        "tags": []
      },
      "source": [
        "# Юнит 6. Предметный анализ"
      ]
    },
    {
      "cell_type": "markdown",
      "id": "b9cd50a0-992d-4988-8463-2b2b1c4629b4",
      "metadata": {
        "id": "b9cd50a0-992d-4988-8463-2b2b1c4629b4"
      },
      "source": [
        "1. Сколько вакансий имеет отношение к данным?\n",
        "\n",
        "Считаем, что вакансия имеет отношение к данным, если в её названии содержатся слова 'data' или 'данн'.\n",
        "\n",
        "*Подсказка: Обратите внимание, что названия вакансий могут быть написаны в любом регистре.* \n"
      ]
    },
    {
      "cell_type": "code",
      "execution_count": 296,
      "id": "54ab0e50-c0f1-47cc-a54b-bc5c8bc363f9",
      "metadata": {
        "id": "54ab0e50-c0f1-47cc-a54b-bc5c8bc363f9"
      },
      "outputs": [],
      "source": [
        "# текст запроса\n",
        "query_6_1 = f'''\n",
        "        select count(id)\n",
        "        from vacancies\n",
        "        where name ilike '%data%' or name ilike '%данн%'\n",
        "'''\n"
      ]
    },
    {
      "cell_type": "code",
      "execution_count": 297,
      "id": "9F1meAqsuUjd",
      "metadata": {
        "id": "9F1meAqsuUjd"
      },
      "outputs": [
        {
          "name": "stdout",
          "output_type": "stream",
          "text": [
            "\n",
            "Количество вакансий, имеющих отношение к данным:  1771\n"
          ]
        }
      ],
      "source": [
        "# результат запроса\n",
        "cnt_data_vac = pd.read_sql_query(query_6_1, connection)\n",
        "print()\n",
        "print('Количество вакансий, имеющих отношение к данным: ', cnt_data_vac.iloc[0,0])"
      ]
    },
    {
      "cell_type": "markdown",
      "id": "4dea20cb-a36b-474a-a0b9-e08e8e3857a5",
      "metadata": {
        "id": "4dea20cb-a36b-474a-a0b9-e08e8e3857a5"
      },
      "source": [
        "2. Сколько есть подходящих вакансий для начинающего дата-сайентиста? \n",
        "Будем считать вакансиями для дата-сайентистов такие, в названии которых есть хотя бы одно из следующих сочетаний:\n",
        "* 'data scientist'\n",
        "* 'data science'\n",
        "* 'исследователь данных'\n",
        "* 'ML' (здесь не нужно брать вакансии по HTML)\n",
        "* 'machine learning'\n",
        "* 'машинн%обучен%'\n",
        "\n",
        "** В следующих заданиях мы продолжим работать с вакансиями по этому условию.*\n",
        "\n",
        "Считаем вакансиями для специалистов уровня Junior следующие:\n",
        "* в названии есть слово 'junior' *или*\n",
        "* требуемый опыт — Нет опыта *или*\n",
        "* тип трудоустройства — Стажировка.\n",
        " "
      ]
    },
    {
      "cell_type": "code",
      "execution_count": 298,
      "id": "9c61b3c0-bb66-46c9-ae1e-81d3f5752b4a",
      "metadata": {
        "id": "9c61b3c0-bb66-46c9-ae1e-81d3f5752b4a"
      },
      "outputs": [],
      "source": [
        "# текст запроса\n",
        "query_6_2 = f'''\n",
        "        select count(id)\n",
        "        from vacancies\n",
        "        where \n",
        "            (name ilike '%data scientist%'\n",
        "                or name ilike '%data science%'\n",
        "                or name ilike '%исследователь данных%'\n",
        "                or name ilike  '%machine learning%'\n",
        "                or name ilike  '%машинн%обучен%'\n",
        "                or (name not ilike '%HTML%' and name like '%ML%'))\n",
        "            and (name ilike '%junior%'\n",
        "                or experience ilike 'Нет опыта'\n",
        "                or employment ilike 'Стажировка')\n",
        "'''"
      ]
    },
    {
      "cell_type": "code",
      "execution_count": 299,
      "id": "ZNM-LLYuu1dj",
      "metadata": {
        "id": "ZNM-LLYuu1dj"
      },
      "outputs": [
        {
          "name": "stdout",
          "output_type": "stream",
          "text": [
            "\n",
            "Количество вакансий для начинающего дата-сайентиста:  51\n"
          ]
        }
      ],
      "source": [
        "# результат запроса\n",
        "cnt_ds = pd.read_sql_query(query_6_2, connection)\n",
        "print()\n",
        "print('Количество вакансий для начинающего дата-сайентиста: ', cnt_ds.iloc[0,0])"
      ]
    },
    {
      "cell_type": "markdown",
      "id": "eedceb80-c5ca-480e-b27a-278dfb8b4438",
      "metadata": {
        "id": "eedceb80-c5ca-480e-b27a-278dfb8b4438"
      },
      "source": [
        "3. Сколько есть вакансий для DS, в которых в качестве ключевого навыка указан SQL или postgres?\n",
        "\n",
        "** Критерии для отнесения вакансии к DS указаны в предыдущем задании.*"
      ]
    },
    {
      "cell_type": "code",
      "execution_count": 300,
      "id": "69621713-0cc5-4f1b-a1d7-bb144fa6148c",
      "metadata": {
        "id": "69621713-0cc5-4f1b-a1d7-bb144fa6148c"
      },
      "outputs": [],
      "source": [
        "# текст запроса\n",
        "query_6_3 = f'''\n",
        "        select count(id)\n",
        "        from vacancies\n",
        "        where \n",
        "            (name ilike '%data scientist%'\n",
        "                or name ilike '%data science%'\n",
        "                or name ilike '%исследователь данных%'\n",
        "                or name ilike  '%machine learning%'\n",
        "                or name ilike  '%машинн%обучен%'\n",
        "                or (name not ilike '%HTML%' and name like '%ML%'))\n",
        "            and (key_skills ilike '%SQL%' or key_skills ilike '%postgres%')\n",
        "\n",
        "'''"
      ]
    },
    {
      "cell_type": "code",
      "execution_count": 301,
      "id": "alA8WEAAvGdf",
      "metadata": {
        "id": "alA8WEAAvGdf"
      },
      "outputs": [
        {
          "name": "stdout",
          "output_type": "stream",
          "text": [
            "\n",
            "Количество вакансий для DS, в которых в качестве ключевого навыка указан SQL или postgres:  201\n"
          ]
        }
      ],
      "source": [
        "# результат запроса\n",
        "cnt_sql = pd.read_sql_query(query_6_3, connection)\n",
        "print()\n",
        "print('Количество вакансий для DS, в которых в качестве ключевого навыка указан SQL или postgres: ',cnt_sql.iloc[0,0])"
      ]
    },
    {
      "cell_type": "markdown",
      "id": "1be1e9c6-37cf-4a5f-bfeb-04cab799dc80",
      "metadata": {
        "id": "1be1e9c6-37cf-4a5f-bfeb-04cab799dc80"
      },
      "source": [
        "4. Проверьте, насколько популярен Python в требованиях работодателей к DS.Для этого вычислите количество вакансий, в которых в качестве ключевого навыка указан Python.\n",
        "\n",
        "** Это можно сделать помощью запроса, аналогичного предыдущему.*"
      ]
    },
    {
      "cell_type": "code",
      "execution_count": 302,
      "id": "0036a355-9ccf-4564-8b01-73d8194297e7",
      "metadata": {
        "id": "0036a355-9ccf-4564-8b01-73d8194297e7"
      },
      "outputs": [],
      "source": [
        "# текст запроса\n",
        "query_6_4 = f'''\n",
        "        select count(id)\n",
        "        from vacancies\n",
        "        where \n",
        "            (name ilike '%data scientist%'\n",
        "                or name ilike '%data science%'\n",
        "                or name ilike '%исследователь данных%'\n",
        "                or name ilike  '%machine learning%'\n",
        "                or name ilike  '%машинн%обучен%'\n",
        "                or (name not ilike '%HTML%' and name like '%ML%'))\n",
        "            and (key_skills ilike '%Python%')\n",
        "\n",
        "'''"
      ]
    },
    {
      "cell_type": "code",
      "execution_count": 303,
      "id": "1i-5WyucvQ6v",
      "metadata": {
        "id": "1i-5WyucvQ6v"
      },
      "outputs": [
        {
          "name": "stdout",
          "output_type": "stream",
          "text": [
            "\n",
            "Количество вакансий для DS, в которых в качестве ключевого навыка указан Python:  351\n"
          ]
        }
      ],
      "source": [
        "# результат запроса\n",
        "cnt_py = pd.read_sql_query(query_6_4, connection)\n",
        "print()\n",
        "print('Количество вакансий для DS, в которых в качестве ключевого навыка указан Python: ',cnt_py.iloc[0,0])"
      ]
    },
    {
      "cell_type": "markdown",
      "id": "ec3c8db7-fa21-4a41-a994-1af63742a642",
      "metadata": {
        "id": "ec3c8db7-fa21-4a41-a994-1af63742a642"
      },
      "source": [
        "5. Сколько ключевых навыков в среднем указывают в вакансиях для DS?\n",
        "Ответ округлите до двух знаков после точки-разделителя."
      ]
    },
    {
      "cell_type": "code",
      "execution_count": 304,
      "id": "949132bc-d5b6-4611-8218-0b9a504d74f4",
      "metadata": {
        "id": "949132bc-d5b6-4611-8218-0b9a504d74f4"
      },
      "outputs": [],
      "source": [
        "# текст запроса\n",
        "query_6_5 = f'''\n",
        "        select round(avg(length(key_skills) - length(replace(key_skills, '\\t', '')) + 1), 2)\n",
        "        from vacancies\n",
        "        where \n",
        "            (name ilike '%data scientist%'\n",
        "                or name ilike '%data science%'\n",
        "                or name ilike '%исследователь данных%'\n",
        "                or name ilike  '%machine learning%'\n",
        "                or name ilike  '%машинн%обучен%'\n",
        "                or (name not ilike '%HTML%' and name like '%ML%'))\n",
        "\n",
        "'''"
      ]
    },
    {
      "cell_type": "code",
      "execution_count": 305,
      "id": "a3V24Tvmviqk",
      "metadata": {
        "id": "a3V24Tvmviqk"
      },
      "outputs": [
        {
          "name": "stdout",
          "output_type": "stream",
          "text": [
            "\n",
            "Среднее количество ключевых навыков для вакансий DS:  6.41\n"
          ]
        }
      ],
      "source": [
        "# результат запроса\n",
        "cnt_skills = pd.read_sql_query(query_6_5, connection)\n",
        "print()\n",
        "print('Среднее количество ключевых навыков для вакансий DS: ',cnt_skills.iloc[0,0])"
      ]
    },
    {
      "cell_type": "markdown",
      "id": "1041c17a-ca8f-4543-a0ca-32778914fb00",
      "metadata": {
        "id": "1041c17a-ca8f-4543-a0ca-32778914fb00"
      },
      "source": [
        "6. Напишите запрос, позволяющий вычислить, какую зарплату для DS в **среднем** указывают для каждого типа требуемого опыта (уникальное значение из поля *experience*). \n",
        "\n",
        "При решении задачи примите во внимание следующее:\n",
        "1. Рассматриваем только вакансии, у которых заполнено хотя бы одно из двух полей с зарплатой.\n",
        "2. Если заполнены оба поля с зарплатой, то считаем зарплату по каждой вакансии как сумму двух полей, делённую на 2. Если заполнено только одно из полей, то его и считаем зарплатой по вакансии.\n",
        "3. Если в расчётах участвует null, в результате он тоже даст null (посмотрите, что возвращает запрос select 1 + null). Чтобы избежать этой ситуацию, мы воспользуемся функцией [coalesce](https://postgrespro.ru/docs/postgresql/9.5/functions-conditional#functions-coalesce-nvl-ifnull), которая заменит null на значение, которое мы передадим. Например, посмотрите, что возвращает запрос `select 1 + coalesce(null, 0)`\n",
        "\n",
        "Выясните, на какую зарплату в среднем может рассчитывать дата-сайентист с опытом работы от 3 до 6 лет. Результат округлите до целого числа. "
      ]
    },
    {
      "cell_type": "code",
      "execution_count": 306,
      "id": "6a743d39-5204-48d3-8271-b9f88e68d40e",
      "metadata": {
        "id": "6a743d39-5204-48d3-8271-b9f88e68d40e"
      },
      "outputs": [],
      "source": [
        "# текст запроса\n",
        "query_6_6 = f'''\n",
        "        select experience, round(avg(coalesce((salary_to + salary_from)/2, salary_from, salary_to, 0))) as avg_salary\n",
        "        from vacancies\n",
        "        where (name ilike '%data scientist%'\n",
        "                or name ilike '%data science%'\n",
        "                or name ilike '%исследователь данных%'\n",
        "                or name ilike  '%machine learning%'\n",
        "                or name ilike  '%машинн%обучен%'\n",
        "                or (name not ilike '%HTML%' and name like '%ML%'))\n",
        "                and (salary_to is not null or salary_from is not null)\n",
        "        group by experience\n",
        "        \n",
        "'''"
      ]
    },
    {
      "cell_type": "code",
      "execution_count": 307,
      "id": "aRIJ0mZEwU1_",
      "metadata": {
        "id": "aRIJ0mZEwU1_"
      },
      "outputs": [
        {
          "name": "stdout",
          "output_type": "stream",
          "text": [
            "           experience  avg_salary\n",
            "0           Нет опыта     74643.0\n",
            "1  От 1 года до 3 лет    139675.0\n",
            "2       От 3 до 6 лет    243115.0\n"
          ]
        }
      ],
      "source": [
        "# результат запроса\n",
        "avg_salary = pd.read_sql_query(query_6_6, connection)\n",
        "print(avg_salary)"
      ]
    },
    {
      "cell_type": "markdown",
      "id": "6a7892b4-4113-4746-adce-18aa2844f18e",
      "metadata": {
        "id": "6a7892b4-4113-4746-adce-18aa2844f18e"
      },
      "source": [
        "***"
      ]
    },
    {
      "cell_type": "markdown",
      "id": "UjLWUptVwY1o",
      "metadata": {
        "id": "UjLWUptVwY1o"
      },
      "source": [
        "# Выводы по предметному анализу\n",
        "**Общее количество вакансий, связанных с наукой о данных, составляет 1771**. Это составляет около 3.6% от общего числа вакансий.\n",
        "\n",
        "**Доступ для начинающих:** Наличие 51 вакансии для начинающих дата-сайентистов предоставляет шансы для новичков в этой сфере. Важно подчеркнуть, что начать карьеру в области данных возможно, хотя и с небольшим количеством доступных вакансий. \n",
        "\n",
        "**Широкий набор навыков:** Среднее количество ключевых навыков для вакансий (6.41) указывает на необходимость владения более чем одним компетентным навыком. Профессионалы в этой области должны быть готовы к использованию разнообразных инструментов.\n",
        "\n",
        "**Зарплатные тренды:** Зарплаты для дата-сайентистов существенно меняются в зависимости от опыта работы. Более опытные специалисты могут ожидать более высоких заработных плат. Отсутсвие средней зп для опытных специалистов (с опытом более 6 лет) говорит о том, что в вакансиях не указана зп для этой категории людей"
      ]
    },
    {
      "cell_type": "markdown",
      "id": "c0ED6fh7wiBT",
      "metadata": {
        "id": "c0ED6fh7wiBT"
      },
      "source": [
        "# Общий вывод по проекту\n",
        "\n",
        "Данные представляют собой собранный объем информации о вакансиях, размещенных работодателями, которые содержат информацию о названии вакансии, работодателе, требованиях к соискателям, условиях занятости, городах и регионах размещения. Дополнительно, данные также содержат информацию о сфере деятельности, местоположении работодателя.\n",
        "\n",
        "Анализ данных позволил выявить следующее:\n",
        "\n",
        "Общее количество вакансий составляет 49 197, что указывает на большую выборку для анализа.\n",
        "Наличие разнообразных сфер деятельности и регионов говорит о разносторонности и географическом охвате предоставленных вакансий.\n",
        "Большинство вакансий размещаются в Москве, что акцентирует внимание на крупных рынках труда.\n",
        "Наличие указанных зарплатных ожиданий и требований к опыту работы делает данные полезными для анализа и рекомендаций.\n",
        "Высокий спрос на аналитические навыки, в частности связанные с наукой о данных, подчеркивает актуальность целевой позиции \"Data Scientist\".\n",
        "Таким образом, данные достаточно разнообразны, содержат важные параметры для анализа вакансий в области Data Scientist и могут быть использованы для создания модели машинного обучения, направленной на рекомендацию подходящих вакансий клиентам агентства."
      ]
    },
    {
      "cell_type": "markdown",
      "id": "h9B3BL-wwj18",
      "metadata": {
        "id": "h9B3BL-wwj18"
      },
      "source": [
        "***Дополнительные исследования, которые могут быть проведены:***\n",
        "\n",
        "**Анализ сферы деятельности работодателей:** В каких сферах деятельности наиболее активно публикуются вакансии для дата-сайентистов. Это поможет понять, какие отрасли в настоящее время наиболее нуждаются в аналитических специалистах. А также выведем ТОП-5 компаний по количеству вакансий для дата-сайентистов."
      ]
    },
    {
      "cell_type": "code",
      "execution_count": 331,
      "id": "dafdde33",
      "metadata": {},
      "outputs": [],
      "source": [
        "query_6_7 = f'''\n",
        "      select i.name, count(*) as vacancy_count\n",
        "from vacancies v\n",
        "left join employers_industries e_i on e_i.employer_id = v.employer_id\n",
        "left join industries i on e_i.industry_id = i.id\n",
        "where \n",
        "    (v.name ilike '%data scientist%'\n",
        "    or v.name ilike '%data science%'\n",
        "    or v.name ilike '%исследователь данных%'\n",
        "    or v.name ilike '%machine learning%'\n",
        "    or v.name ilike '%машинн%обучен%'\n",
        "    or (v.name not ilike '%HTML%' AND v.name like '%ML%'))\n",
        "group by i.name\n",
        "order by vacancy_count desc\n",
        "limit 15\n",
        "'''"
      ]
    },
    {
      "cell_type": "code",
      "execution_count": 333,
      "id": "58c80f46",
      "metadata": {},
      "outputs": [
        {
          "name": "stdout",
          "output_type": "stream",
          "text": [
            "\n",
            "                                                                                                                                                name   \n",
            "0                                                                                                                Разработка программного обеспечения  \\\n",
            "1                                                 Системная интеграция,  автоматизации технологических и бизнес-процессов предприятия, ИТ-консалтинг   \n",
            "2                                                                                                                                               Банк   \n",
            "3   Интернет-компания (поисковики, платежные системы, соц.сети, информационно-познавательные и развлекательные ресурсы, продвижение сайтов и прочее)   \n",
            "4                                                                                                                                               None   \n",
            "5                                                                                                                                    Мобильная связь   \n",
            "6                                                            Маркетинговые, рекламные, BTL, дизайнерские, Event-, PR-агентства, организация выставок   \n",
            "7                                                                                         Управляющая, инвестиционная компания (управление активами)   \n",
            "8                                                                                                                              Консалтинговые услуги   \n",
            "9                                                                                                                                Фиксированная связь   \n",
            "10                                                                                     Научно-исследовательская, научная, академическая деятельность   \n",
            "11                                                                                     Производство мультимедиа, контента, редакторская деятельность   \n",
            "12                                                                                                                                Интернет-провайдер   \n",
            "13                                                                                                                                  Интернет-магазин   \n",
            "14                                                                                                                        Коллекторская деятельность   \n",
            "\n",
            "    vacancy_count  \n",
            "0             148  \n",
            "1             139  \n",
            "2              92  \n",
            "3              79  \n",
            "4              62  \n",
            "5              23  \n",
            "6              22  \n",
            "7              21  \n",
            "8              16  \n",
            "9              13  \n",
            "10              9  \n",
            "11              8  \n",
            "12              7  \n",
            "13              7  \n",
            "14              6  \n"
          ]
        }
      ],
      "source": [
        "# результат запроса\n",
        "dop = pd.read_sql_query(query_6_7, connection)\n",
        "print()\n",
        "print(dop)"
      ]
    },
    {
      "cell_type": "markdown",
      "id": "d66c8482",
      "metadata": {},
      "source": [
        "**Разнообразие отраслей:** Вакансии для дата-сайентистов и аналитиков данных публикуются в разнообразных отраслях. Важно заметить, что специалисты по анализу данных востребованы не только в технологических компаниях, но также в сферах, связанных с банковскими услугами, интернет-компаниями, маркетингом, управлением активами, консалтингом и других.\n",
        "\n",
        "Наивысшее количество вакансий имеют \"Разработка программного обеспечения\" и \"Системная интеграция, автоматизации технологических и бизнес-процессов предприятия, ИТ-консалтинг\". Это указывает на высокий спрос на специалистов в этих отраслях, где аналитические навыки играют важную роль для разработки программных продуктов, интеграции систем и консультирования в области информационных технологий."
      ]
    },
    {
      "cell_type": "code",
      "execution_count": 340,
      "id": "042fd274",
      "metadata": {},
      "outputs": [],
      "source": [
        "query_6_8 = f'''\n",
        "select e.name, count(*) as vacancy_count\n",
        "from vacancies v\n",
        "left join employers e on e.id = v.employer_id\n",
        "where \n",
        "    (v.name ilike '%data scientist%'\n",
        "    or v.name ilike '%data science%'\n",
        "    or v.name ilike '%исследователь данных%'\n",
        "    or v.name ilike '%machine learning%'\n",
        "    or v.name ilike '%машинн%обучен%'\n",
        "    or (v.name not ilike '%HTML%' AND v.name like '%ML%'))\n",
        "group by e.name\n",
        "order by vacancy_count desc\n",
        "limit 5\n",
        "'''"
      ]
    },
    {
      "cell_type": "code",
      "execution_count": 341,
      "id": "a0a6e429",
      "metadata": {},
      "outputs": [
        {
          "name": "stdout",
          "output_type": "stream",
          "text": [
            "\n",
            "                    name  vacancy_count\n",
            "0                   СБЕР             37\n",
            "1        Bell Integrator             25\n",
            "2         Банк ВТБ (ПАО)             18\n",
            "3                     VK             15\n",
            "4  Positive Technologies             11\n"
          ]
        }
      ],
      "source": [
        "# результат запроса\n",
        "dop_1 = pd.read_sql_query(query_6_8, connection)\n",
        "print()\n",
        "print(dop_1)"
      ]
    },
    {
      "cell_type": "markdown",
      "id": "9107fa8e",
      "metadata": {},
      "source": [
        "ТОП - 5 компаний по спросу дата-сайентистов. Компания \"СБЕР\" имеет самое высокое количество вакансий для дата-аналитиков среди представленных в списке."
      ]
    }
  ],
  "metadata": {
    "colab": {
      "collapsed_sections": [
        "8d62a9f3-f64e-4fe7-bdac-c4dffa16155e"
      ],
      "provenance": []
    },
    "kernelspec": {
      "display_name": "Python 3 (ipykernel)",
      "language": "python",
      "name": "python3"
    },
    "language_info": {
      "codemirror_mode": {
        "name": "ipython",
        "version": 3
      },
      "file_extension": ".py",
      "mimetype": "text/x-python",
      "name": "python",
      "nbconvert_exporter": "python",
      "pygments_lexer": "ipython3",
      "version": "3.10.10"
    }
  },
  "nbformat": 4,
  "nbformat_minor": 5
}
